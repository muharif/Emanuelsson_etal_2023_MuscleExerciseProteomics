{
 "cells": [
  {
   "cell_type": "code",
   "execution_count": null,
   "id": "52cacded-53af-446a-9201-79e585b4183f",
   "metadata": {
    "tags": []
   },
   "outputs": [],
   "source": [
    "%matplotlib inline\n",
    "import pandas as pd\n",
    "import rpy2,os,re\n",
    "import matplotlib.pyplot as plt\n",
    "import matplotlib.patches as mpatches\n",
    "from matplotlib.backends.backend_pdf import PdfPages\n",
    "import numpy as np\n",
    "import seaborn as sns\n",
    "sns.set(font=\"Arial\")\n",
    "sns.set_style(\"white\")\n",
    "import matplotlib\n",
    "matplotlib.rcParams['pdf.fonttype'] = 42\n",
    "matplotlib.rcParams['ps.fonttype'] = 42\n",
    "from sklearn.decomposition import PCA as sklearnPCA\n",
    "import seaborn as sns\n",
    "os.environ['KMP_DUPLICATE_LIB_OK']='True'\n",
    "import pickle\n",
    "from statsmodels.sandbox.stats.multicomp import multipletests\n",
    "\n",
    "\n",
    "from scipy.stats import ttest_ind,ttest_rel, zscore, spearmanr, pearsonr\n",
    "from statannot import add_stat_annotation\n",
    "from scipy.interpolate import interp1d\n",
    "import gseapy as gp\n",
    "from matplotlib.gridspec import GridSpec\n",
    "from scipy.spatial import distance\n",
    "from scipy.cluster.hierarchy import dendrogram, linkage, cut_tree"
   ]
  },
  {
   "cell_type": "markdown",
   "id": "34ea0012-96a6-4c26-81b9-40ec4f8441a2",
   "metadata": {},
   "source": [
    "## Load File (Protein and clinical Individual Data)"
   ]
  },
  {
   "cell_type": "code",
   "execution_count": null,
   "id": "a9cecd36-3b56-416f-aa48-312128b79385",
   "metadata": {
    "tags": []
   },
   "outputs": [],
   "source": [
    "temp=pd.ExcelFile('Data/ProteomicsData.xlsx')\n",
    "\n",
    "data=temp.parse('all data',index_col=0)\n",
    "data=data[data.columns[data.columns.str.contains('tmt10plex')]]\n",
    "data.columns=[i.split('_')[2]+'_'+i.split('_')[3] for i in data.columns]\n",
    "metadata=temp.parse('Labeling',index_col=0)\n",
    "metadata=metadata[metadata['Outliers'] == 'NO']\n",
    "metadata['Condition']=metadata['Condition'].str.replace(' ','')\n",
    "intersect=set(data.columns).intersection(metadata.index)\n",
    "metadata=metadata.reindex(intersect)\n",
    "data=data[intersect]\n",
    "mapping=temp.parse('Mapping',index_col=0)\n",
    "\n",
    "data_clin = pd.read_excel('Data/ClinicalVariables.xlsx',index_col = 0).T"
   ]
  },
  {
   "cell_type": "markdown",
   "id": "c11e57c5-4dde-4478-88e9-27b0a1c03cc9",
   "metadata": {},
   "source": [
    "## Load File (Protein Statistical Analysis Results)\n",
    "\n",
    "The statistical analyses were done using DEQms package in R. Code will be uploaded in a separate file\n",
    "\n",
    "https://www.bioconductor.org/packages/release/bioc/html/DEqMS.html"
   ]
  },
  {
   "cell_type": "code",
   "execution_count": null,
   "id": "c44cbff3-7a70-456c-b1fc-10860c1068cc",
   "metadata": {
    "tags": []
   },
   "outputs": [],
   "source": [
    "#Loading deqms results\n",
    "dep_dict = {}\n",
    "for z in os.listdir('Results/deqms/'):\n",
    "    j,i=z.replace('.txt','').replace('deqms_','').split('vs')\n",
    "    temp=pd.read_csv('Results/deqms/deqms_%svs%s.txt' % (j,i),sep='\\t',index_col=0)[['name','logFC','sca.adj.pval']].sort_values('sca.adj.pval')\n",
    "    temp.columns=['Gene Name', 'LogFC', 'FDR (deqms)']\n",
    "    temp['Direction'] = ['DOWN' if k < 0 else 'UP' for k in temp['LogFC']]\n",
    "    temp.loc[temp['FDR (deqms)'].isna(),'Direction'] = np.nan\n",
    "    dep_dict['%sVS%s' % (j,i)] = temp"
   ]
  },
  {
   "cell_type": "markdown",
   "id": "8d247885-a664-4cbb-aa8d-2075f4a5592a",
   "metadata": {},
   "source": [
    "## Load File (KEGG Enrichment Analysis Results per comparison)"
   ]
  },
  {
   "cell_type": "code",
   "execution_count": null,
   "id": "bd6ed05e-fa08-4989-ada4-7992314f4db4",
   "metadata": {
    "tags": []
   },
   "outputs": [],
   "source": [
    "enrichment_dict = {}\n",
    "\n",
    "for z in os.listdir('Results/KEGG/'):\n",
    "    j,i=z.replace('.txt','').replace('piano_','').split('vs')\n",
    "    piano=pd.read_csv('Results/KEGG/piano_%svs%s.txt' % (j,i),sep='\\t',index_col='Name')\n",
    "    up=piano[piano['p adj (dist.dir.up)'] < 0.05][['Genes (tot)', 'Stat (dist.dir.up)','p adj (dist.dir.up)']]\n",
    "    up['DIR']='UP'\n",
    "    up.columns=['# Genes', 'Stats', 'P-Adj','Direction']\n",
    "    dn=piano[piano['p adj (dist.dir.dn)'] < 0.05][['Genes (tot)', 'Stat (dist.dir.up)','p adj (dist.dir.dn)']]\n",
    "    dn['DIR']='DOWN'\n",
    "    dn.columns=['# Genes', 'Stats','P-Adj','Direction']\n",
    "    enrichment_dict['%sVS%s' % (j,i)] = pd.concat([up,dn])"
   ]
  },
  {
   "cell_type": "markdown",
   "id": "4ae50e66-0bfa-49b4-9551-e77da510a5e2",
   "metadata": {},
   "source": [
    "## Load File (RNA-Seq Statistical Analysis)\n",
    "\n",
    "https://pubmed.ncbi.nlm.nih.gov/32579934/"
   ]
  },
  {
   "cell_type": "code",
   "execution_count": null,
   "id": "86ca2424-a03b-431e-9cb9-ba992b68c51b",
   "metadata": {
    "tags": []
   },
   "outputs": [],
   "source": [
    "# Loading Transcriptomics Data Analysis Results from https://pubmed.ncbi.nlm.nih.gov/32579934/\n",
    "# Download from https://ars.els-cdn.com/content/image/1-s2.0-S2211124720307890-mmc2.xlsx (supplemental material)\n",
    "temp = pd.ExcelFile('Results/1-s2.0-S2211124720307890-mmc2.xlsx')\n",
    "\n",
    "degs = pd.DataFrame()\n",
    "for i in temp.sheet_names:\n",
    "    degs = pd.concat([degs, temp.parse(i,index_col = 0)['Direction'].rename(i)], axis = 1)"
   ]
  },
  {
   "cell_type": "markdown",
   "id": "bc060c04-e911-4e6a-8332-d26573df20f2",
   "metadata": {},
   "source": [
    "## Figure 1C"
   ]
  },
  {
   "cell_type": "code",
   "execution_count": null,
   "id": "f16f1e5f-983b-4b2e-b592-2cb8df09615b",
   "metadata": {
    "tags": []
   },
   "outputs": [],
   "source": [
    "var = 'Condition'\n",
    "sklearn_pca = sklearnPCA(n_components=2)\n",
    "Y_sklearn = sklearn_pca.fit_transform(data.dropna().T)\n",
    "plt.figure(figsize=(6,5))\n",
    "coordinate = pd.DataFrame(Y_sklearn, columns = ['x', 'y'], index = metadata[var]).reset_index()\n",
    "x = []\n",
    "for i in coordinate[var]:\n",
    "    if 'Control' in i:\n",
    "        x.append('Control')\n",
    "    if 'Strength' in i:\n",
    "        x.append('Strength')\n",
    "    if 'Endurance' in i:\n",
    "        x.append('Endurance')\n",
    "coordinate['style'] = x\n",
    "coordinate['color'] = ['Male' if 'Male' in i else 'Female' for i in coordinate[var]]\n",
    "ax = sns.scatterplot(data = coordinate, x = 'x', y = 'y', s = 300, hue = 'color', style = 'style')\n",
    "ax.set_xlabel('PC1 (%.2f%%)' % (sklearn_pca.explained_variance_ratio_[0]*100), fontsize = 20, fontweight = 'bold')\n",
    "ax.set_ylabel('PC2 (%.2f%%)' % (sklearn_pca.explained_variance_ratio_[1]*100), fontsize = 20, fontweight = 'bold')\n",
    "ax.set_xticklabels([])\n",
    "ax.set_yticklabels([])\n",
    "ax.get_legend().set_title('Groups')\n",
    "plt.setp(ax.get_legend().get_title(), fontsize='15', fontweight = 'bold')\n",
    "plt.setp(ax.get_legend().get_texts(), fontsize='15')\n",
    "plt.legend(ncol=2)\n",
    "plt.tight_layout()"
   ]
  },
  {
   "cell_type": "markdown",
   "id": "7d254f5e-59b8-4731-83bf-0a4182ccb665",
   "metadata": {},
   "source": [
    "## Figure 1D\n",
    "\n",
    "Figure 1D in the paper has undergone a post-processing in Illustrator to combine multiple smaller subgroups to \"Others\" category."
   ]
  },
  {
   "cell_type": "code",
   "execution_count": null,
   "id": "51b033ee-e7ca-4984-8480-95a72654f0ae",
   "metadata": {
    "tags": []
   },
   "outputs": [],
   "source": [
    "## Loading The direction of differentially expressed proteins\n",
    "dep = pd.DataFrame()\n",
    "for i in dep_dict.keys():\n",
    "    temp = dep_dict[i]\n",
    "    temp = temp[temp['FDR (deqms)'] < 0.05]['Direction'].rename(i)\n",
    "    dep = pd.concat([dep, temp],1)"
   ]
  },
  {
   "cell_type": "code",
   "execution_count": null,
   "id": "3adab9a5-211e-4315-851d-4b83c336b37b",
   "metadata": {
    "tags": []
   },
   "outputs": [],
   "source": [
    "#ordering based on the number of DEPs members\n",
    "legend_order = list(temp2_color.value_counts().sort_values(ascending = False).index)\n",
    "\n",
    "#mapping the DEPs group to colors\n",
    "temp = dep.unstack().reset_index().dropna()\n",
    "temp2 = temp.groupby('level_1')['level_0'].apply(lambda x: '; '.join(sorted(set(x))))\n",
    "cmap = dict(zip(temp2.unique(), sns.color_palette('tab20').as_hex()))\n",
    "\n",
    "temp_num = pd.DataFrame(temp2).reset_index()\n",
    "temp_num['col'] = temp_num['level_0'].replace(cmap)\n",
    "temp_num = temp_num.groupby(['col','level_0']).count().reset_index().set_index('col').reindex(legend_order)\n",
    "temp_num['Legend'] = temp_num['level_0'] + ' (' + temp_num['level_1'].astype(str) + ' DEPs)'"
   ]
  },
  {
   "cell_type": "code",
   "execution_count": null,
   "id": "8466d25b-ebb4-45dc-829d-3df6028cd917",
   "metadata": {
    "tags": []
   },
   "outputs": [],
   "source": [
    "#generating the legends\n",
    "colors = temp_num.index.tolist()\n",
    "f = lambda m,c: plt.plot([],[],marker=m, color=c, ls=\"none\")[0]\n",
    "handles = [f(\"s\", colors[i]) for i in range(temp_num.shape[0])]\n",
    "labels = temp_num['Legend']\n",
    "legend = plt.legend(handles, labels, loc=3, framealpha=1, frameon=True)\n",
    "\n",
    "def export_legend(legend, filename=\"../221014/legend2.pdf\", expand=[-5,-5,5,5]):\n",
    "    fig  = legend.figure\n",
    "    fig.canvas.draw()\n",
    "    bbox  = legend.get_window_extent()\n",
    "    bbox = bbox.from_extents(*(bbox.extents + np.array(expand)))\n",
    "    bbox = bbox.transformed(fig.dpi_scale_trans.inverted())\n",
    "\n",
    "export_legend(legend)\n",
    "plt.show()"
   ]
  },
  {
   "cell_type": "code",
   "execution_count": null,
   "id": "36239cc6-2f14-4cd5-92b0-66f327c7791b",
   "metadata": {
    "tags": []
   },
   "outputs": [],
   "source": [
    "fin = []\n",
    "temp = temp.replace(temp2.replace(cmap))\n",
    "for i in temp['level_0'].unique():\n",
    "    temp3 = pd.DataFrame(temp[temp['level_0'] == i].groupby('level_1')[0].count().reindex(legend_order).dropna()).cumsum().reset_index()\n",
    "    temp3['comp'] = i\n",
    "    fin.append(temp3)\n",
    "fin = pd.concat(fin)"
   ]
  },
  {
   "cell_type": "code",
   "execution_count": null,
   "id": "61343486-0194-435b-8803-290d11a02286",
   "metadata": {
    "tags": []
   },
   "outputs": [],
   "source": [
    "fig, axs = plt.subplots(nrows = 3, ncols = 1, figsize = (4, 6), gridspec_kw={'height_ratios':[2,4,2]}, sharex = True)\n",
    "g = axs[2]\n",
    "for i in range(fin.shape[0])[::-1]:\n",
    "    temp = pd.DataFrame(fin.reset_index().iloc[i]).T\n",
    "    sns.barplot(data = temp, x = 'comp', y = 0, palette = temp['level_1'], \n",
    "                order = ['EnduranceMaleVSControlMale', 'EnduranceFemaleVSControlFemale', 'StrengthMaleVSControlMale', 'EnduranceMaleVSStrengthMale','ControlFemaleVSControlMale', 'EnduranceFemaleVSEnduranceMale'], \n",
    "                ax = g)\n",
    "g.set_ylim(0,30)\n",
    "sns.despine(ax = g, top = True, bottom = False, right = False, left = False)\n",
    "g.set_xticklabels(['MEvsMC', 'FEvsFC', 'MSvsMC', 'MEvsMS', 'FCvsMC', 'FEvsFC'], rotation = 30, ha = 'right')\n",
    "g.set_ylabel('')\n",
    "g.set_xlabel('')\n",
    "\n",
    "g = axs[1]\n",
    "for i in range(fin.shape[0])[::-1]:\n",
    "    temp = pd.DataFrame(fin.reset_index().iloc[i]).T\n",
    "    sns.barplot(data = temp, x = 'comp', y = 0, palette = temp['level_1'], \n",
    "                order = ['EnduranceMaleVSControlMale', 'EnduranceFemaleVSControlFemale', 'StrengthMaleVSControlMale', 'EnduranceMaleVSStrengthMale','ControlFemaleVSControlMale', 'EnduranceFemaleVSEnduranceMale'], \n",
    "                ax = g)\n",
    "g.set_ylim(350,700)\n",
    "sns.despine(ax = g, top = True, bottom = True, right = False, left = False)\n",
    "g.set_xticklabels(['MEvsMC', 'FEvsFC', 'MSvsMC', 'MEvsMS', 'FCvsMC', 'FEvsFC'], rotation = 30, ha = 'right')\n",
    "g.set_ylabel('')\n",
    "g.set_xlabel('')\n",
    "\n",
    "\n",
    "g = axs[0]\n",
    "for i in range(fin.shape[0])[::-1]:\n",
    "    temp = pd.DataFrame(fin.reset_index().iloc[i]).T\n",
    "    sns.barplot(data = temp, x = 'comp', y = 0, palette = temp['level_1'], \n",
    "                order = ['EnduranceMaleVSControlMale', 'EnduranceFemaleVSControlFemale', 'StrengthMaleVSControlMale', 'EnduranceMaleVSStrengthMale','ControlFemaleVSControlMale', 'EnduranceFemaleVSEnduranceMale'], \n",
    "                ax = g)\n",
    "g.set_ylim(850,900)\n",
    "sns.despine(ax = g, top = False, bottom = True, right = False, left = False)\n",
    "g.set_xticklabels(['MEvsMC', 'FEvsFC', 'MSvsMC', 'MEvsMS', 'FCvsMC', 'FEvsFC'], rotation = 30, ha = 'right')\n",
    "g.set_ylabel('')\n",
    "g.set_xlabel('')"
   ]
  },
  {
   "cell_type": "markdown",
   "id": "9de21a73-6ec7-43a2-bc39-841fac23e68d",
   "metadata": {},
   "source": [
    "## Figure 2A-B\n",
    "\n",
    "Created with R EnhancedVolcano Package based on the files in \"Results/deqms/\"\""
   ]
  },
  {
   "cell_type": "markdown",
   "id": "de0d691e-da94-41d7-9e80-b7f5ad12fd0d",
   "metadata": {},
   "source": [
    "## Figure 2C-D"
   ]
  },
  {
   "cell_type": "code",
   "execution_count": null,
   "id": "f6b49d4c-1590-49b2-9eeb-f48e9a963996",
   "metadata": {
    "tags": []
   },
   "outputs": [],
   "source": [
    "dep = pd.DataFrame()\n",
    "lst = ['EnduranceFemaleVSControlFemale', 'EnduranceMaleVSControlMale']\n",
    "\n",
    "for i in lst:\n",
    "    temp = dep_dict[i]\n",
    "    temp = temp[temp['FDR (deqms)'] < 0.05]['Direction'].rename(i)\n",
    "    dep= pd.concat([dep, temp],1)"
   ]
  },
  {
   "cell_type": "code",
   "execution_count": null,
   "id": "a0de3671-fca5-4fcd-a25b-2819907d5d87",
   "metadata": {
    "tags": []
   },
   "outputs": [],
   "source": [
    "#Filtering for common proteins in Endurance Male and Female\n",
    "dep_endurance = dep[dep['EnduranceFemaleVSControlFemale'] == dep['EnduranceMaleVSControlMale']].sort_values(['EnduranceFemaleVSControlFemale', 'EnduranceMaleVSControlMale'])\n",
    "dep_endurance.loc[dep_endurance['EnduranceFemaleVSControlFemale'] == 'DOWN', 'group'] = 'Both DOWN'\n",
    "dep_endurance.loc[dep_endurance['EnduranceFemaleVSControlFemale'] == 'UP', 'group'] = 'Both UP'"
   ]
  },
  {
   "cell_type": "code",
   "execution_count": null,
   "id": "e3349a85-84aa-4bf0-9116-226763079e1e",
   "metadata": {
    "tags": []
   },
   "outputs": [],
   "source": [
    "#Functional Analysis of Both UP and both DOWN in endurance\n",
    "exclude_KEGG = ['Hepatitis B', 'Human T-cell leukemia virus 1 infection', 'Regulation of actin cytoskeleton', 'Measles',\n",
    "           'MicroRNAs in cancer', 'Pathways in cancer', 'Influenza A', 'Oocyte meiosis', 'Progesterone-mediated oocyte maturation',\n",
    "           'Ribosome biogenesis in eukaryotes', 'Amoebiasis', 'Small cell lung cancer', 'Epstein-Barr virus infection', 'Human papillomavirus infection',\n",
    "           'Pertussis', 'Staphylococcus aureus infection', 'Proteoglycans in cancer', 'Leishmaniasis', 'Legionellosis', 'Viral carcinogenesis', \n",
    "           'Chagas disease (American trypanosomiasis)', 'Toxoplasmosis', 'Malaria', 'Metabolism of xenobiotics by cytochrome P450', 'Chronic myeloid leukemia',\n",
    "           'Prion diseases', 'Inflammatory bowel disease (IBD)', 'Kaposi sarcoma-associated herpesvirus infection', 'Parkinson disease', 'Hepatitis C', 'Systemic lupus erythematosus',\n",
    "           'Tuberculosis', 'Hepatitis B', 'Measles', 'Dilated cardiomyopathy (DCM)', 'Hematopoietic cell lineage', 'Adrenergic signaling in cardiomyocytes',\n",
    "           'Epstein-Barr virus infection', 'Drug metabolism', 'Salivary secretion', 'Thermogenesis', 'Glioma', 'Human cytomegalovirus infection', 'Melanoma', 'Chemical carcinogenesis',\n",
    "            'African trypanosomiasis', 'Collecting duct acid secretion', 'African trypanosomiasis', 'Vascular smooth muscle contraction', 'Fluid shear stress and atherosclerosis',\n",
    "            'Rheumatoid arthritis', 'Allograft rejection'\n",
    "          ]\n",
    "\n",
    "terms = pd.DataFrame()\n",
    "\n",
    "for direction in dep_endurance['group'].unique():\n",
    "    gene_list = list(set([mapping['Gene Name'][i] for i in dep_endurance['group'][dep_endurance['group'] == direction].index]))\n",
    "    enr = gp.enrichr(gene_list=gene_list,\n",
    "                     gene_sets='KEGG_2019_Human',\n",
    "                     background=data.shape[0],\n",
    "                     outdir='test/enrichr_kegg2',\n",
    "                     cutoff=0.5,\n",
    "                     verbose=False)\n",
    "    temp = enr.res2d[enr.res2d['Adjusted P-value'] < 0.05]\n",
    "    temp['direction'] = direction\n",
    "    temp['-Log10(FDR)'] = -np.log10(temp['Adjusted P-value'])\n",
    "    temp['#ofGenes'] = [len(i.split(';')) for i in temp['Genes']]\n",
    "    terms = pd.concat([terms, ])\n",
    "    \n",
    "terms = terms[~terms.index.isin(exclude_KEGG)]\n",
    "terms = terms[~((terms.index.str.contains('isease')) |\n",
    "         (terms.index.str.contains('arcinoma')) |\n",
    "          (terms.index.str.contains('ancer')) |\n",
    "        (terms.index.str.contains('nsulin')) |\n",
    "        (terms.index.str.contains('iabet')) |\n",
    "        (terms.index.str.contains('ysosome')) |\n",
    "        (terms.index.str.contains('nfection')) |\n",
    "        (terms.index.str.contains('ardio')) |\n",
    "        (terms.index.str.contains('ardia')) |\n",
    "        (terms.index.str.contains('mmunodef')))]\n",
    "\n",
    "fig, axs = plt.subplots(\n",
    "        nrows=len(dep_endurance['group'].unique()), ncols=1, sharex=False, sharey=False,  figsize = (3,6))\n",
    "\n",
    "\n",
    "for i, direction in enumerate(terms.groupby('direction').count().index):\n",
    "    temp = terms[terms['direction'] == direction].reset_index().sort_values('-Log10(FDR)', ascending = False).iloc[0:10]\n",
    "    print(temp.shape[0])\n",
    "    ax = sns.barplot(data = temp, y = 'Term', x = '-Log10(FDR)', ax = axs[i])\n",
    "    ax.set_ylabel(direction)\n",
    "    sns.despine(ax = ax)"
   ]
  },
  {
   "cell_type": "markdown",
   "id": "15ba0765-5805-40f8-8181-0af38f8fd313",
   "metadata": {},
   "source": [
    "## Figure 2E"
   ]
  },
  {
   "cell_type": "markdown",
   "id": "5584f906-4c91-46f8-88d6-7f2bc4a704b5",
   "metadata": {},
   "source": [
    "## Figure 2F"
   ]
  },
  {
   "cell_type": "code",
   "execution_count": null,
   "id": "e9bebe8a-5f62-4429-a649-43cde64ff5c1",
   "metadata": {
    "tags": []
   },
   "outputs": [],
   "source": [
    "kegg = pd.DataFrame()\n",
    "lst = ['EnduranceFemaleVSControlFemale', 'EnduranceMaleVSControlMale', 'StrengthMaleVSControlMale']\n",
    "\n",
    "for i in lst:\n",
    "    temp = enrichment_dict[i]\n",
    "    temp = temp['Stats'].rename(i)\n",
    "    kegg= pd.concat([kegg, temp],1)\n",
    "    \n",
    "kegg = kegg[~kegg.index.isin(exclude_KEGG)]\n",
    "kegg = kegg[~((kegg.index.str.contains('isease')) |\n",
    "         (kegg.index.str.contains('arcinoma')) |\n",
    "          (kegg.index.str.contains('ancer')) |\n",
    "        (kegg.index.str.contains('ardio')) |\n",
    "            (kegg.index.str.contains('ardia')) |\n",
    "        (kegg.index.str.contains('iabet')) |\n",
    "        (kegg.index.str.contains('ysosome')) |\n",
    "        (kegg.index.str.contains('nfection')) |\n",
    "            (kegg.index.str.contains('mycin')) |\n",
    "            (kegg.index.str.contains('astric')) |\n",
    "        (kegg.index.str.contains('mmunodef')))]"
   ]
  },
  {
   "cell_type": "code",
   "execution_count": null,
   "id": "bcd5c008-3727-40d1-ba4c-a972cb9a48b1",
   "metadata": {
    "tags": []
   },
   "outputs": [],
   "source": [
    "temp = kegg[\n",
    "    (kegg['EnduranceMaleVSControlMale'].notna() & kegg['EnduranceFemaleVSControlFemale'].notna()) | (kegg['StrengthMaleVSControlMale'].notna())\n",
    "][['EnduranceMaleVSControlMale', 'EnduranceFemaleVSControlFemale', 'StrengthMaleVSControlMale']].dropna(how = 'all')\n",
    "\n",
    "cmap=matplotlib.colors.LinearSegmentedColormap.from_list(\"\", [\"#0000a5\",'#0000d8',\"#FFFAF0\",'#d80000',\"#a50000\"])\n",
    "g = sns.clustermap(temp.fillna(0), yticklabels = 1, \n",
    "               center = 0, cmap = cmap, vmin = -30, vmax = 30,\n",
    "               col_cluster = False, row_cluster = True,\n",
    "               figsize = (6,12),\n",
    "               cbar_kws={\"orientation\": \"vertical\",\"shrink\": 1, 'label': 'Gene-Set Statistics'}\n",
    "              )"
   ]
  },
  {
   "cell_type": "markdown",
   "id": "f7a421bd-0102-4642-b6d4-1c7f7590787b",
   "metadata": {},
   "source": [
    "## Figure 2G"
   ]
  },
  {
   "cell_type": "code",
   "execution_count": null,
   "id": "da8d0d4b-b3b6-4c8a-ba11-002e020fe196",
   "metadata": {
    "tags": []
   },
   "outputs": [],
   "source": [
    "kegg = pd.DataFrame()\n",
    "lst = ['ControlFemaleVSControlMale', 'EnduranceFemaleVSEnduranceMale']\n",
    "\n",
    "for i in lst:\n",
    "    temp = enrichment_dict[i]\n",
    "    temp = temp['Stats'].rename(i)\n",
    "    kegg= pd.concat([kegg, temp],1)\n",
    "    \n",
    "kegg = kegg[~kegg.index.isin(exclude_KEGG)]\n",
    "kegg = kegg[~((kegg.index.str.contains('isease')) |\n",
    "         (kegg.index.str.contains('arcinoma')) |\n",
    "          (kegg.index.str.contains('ancer')) |\n",
    "        (kegg.index.str.contains('ardio')) |\n",
    "            (kegg.index.str.contains('ardia')) |\n",
    "        (kegg.index.str.contains('iabet')) |\n",
    "        (kegg.index.str.contains('ysosome')) |\n",
    "        (kegg.index.str.contains('nfection')) |\n",
    "            (kegg.index.str.contains('mycin')) |\n",
    "            (kegg.index.str.contains('astric')) |\n",
    "        (kegg.index.str.contains('mmunodef')))]"
   ]
  },
  {
   "cell_type": "code",
   "execution_count": null,
   "id": "6347c609-1b7a-4ff7-8bee-147a90670c59",
   "metadata": {
    "tags": []
   },
   "outputs": [],
   "source": [
    "temp = kegg.dropna(how = 'all')\n",
    "\n",
    "cmap=matplotlib.colors.LinearSegmentedColormap.from_list(\"\", [\"#0000a5\",'#0000d8',\"#FFFAF0\",'#d80000',\"#a50000\"])\n",
    "g = sns.clustermap(temp.fillna(0), yticklabels = 1, \n",
    "               center = 0, cmap = cmap, vmin = -30, vmax = 30,\n",
    "               col_cluster = False, row_cluster = True,\n",
    "               figsize = (6,12),\n",
    "               cbar_kws={\"orientation\": \"vertical\",\"shrink\": 1, 'label': 'Gene-Set Statistics'}\n",
    "              )"
   ]
  },
  {
   "cell_type": "markdown",
   "id": "f0ab8c1f-4c65-4fc5-8213-fc5ea5515e25",
   "metadata": {},
   "source": [
    "## Figure 3 and Network Genreation for Figure 4\n",
    "\n",
    "Figure 3 and Network Generation for Figure 4 used protein, clinical, and transcriptomics data using the pipelines described in iNetModels (PMID: 33849075). Due to privacy reason, we cannot upload the transcriptomics data to GitHub, but it can be accessed through EGA Repository as described on our previous publication (PMID: 32579934)"
   ]
  },
  {
   "cell_type": "markdown",
   "id": "f893b45c-30cb-47b2-9cdf-87138899affd",
   "metadata": {},
   "source": [
    "## Figure 4A\n",
    "\n",
    "Post-Processed in Illustrator for aesthetic and removing the values from top triangle"
   ]
  },
  {
   "cell_type": "code",
   "execution_count": null,
   "id": "4af96b22-0c5e-4af1-8b6d-d805189cdf04",
   "metadata": {
    "tags": []
   },
   "outputs": [],
   "source": [
    "corr = data_clin.T.corr(method = 'spearman')"
   ]
  },
  {
   "cell_type": "code",
   "execution_count": null,
   "id": "c4735bcd-b01b-47b1-aff8-5cf064f51b72",
   "metadata": {
    "tags": []
   },
   "outputs": [],
   "source": [
    "temp = spearmanr(data_clin.T, nan_policy='omit')\n",
    "corr = pd.DataFrame(temp[0], index = data_clin.index, columns = data_clin.index)\n",
    "pval = pd.DataFrame(temp[1], index = data_clin.index, columns = data_clin.index)\n",
    "temp = pval.unstack().reset_index()\n",
    "temp['padj'] = multipletests(temp[0],method='fdr_bh')[1]\n",
    "padj = temp.pivot_table(index = 'level_0', columns = 'level_1', values = 'padj')\n",
    "\n",
    "annot = padj[padj < 0.05].loc[corr.index, corr.columns]\n",
    "annot = annot[corr != 1]\n",
    "annot[annot.notna()] = '*'"
   ]
  },
  {
   "cell_type": "code",
   "execution_count": null,
   "id": "d3d615fe-a6da-423e-8385-21797cd854e5",
   "metadata": {
    "tags": []
   },
   "outputs": [],
   "source": [
    "cmap=matplotlib.colors.LinearSegmentedColormap.from_list(\"\", [\"#0000a5\",'#0000d8',\"#FFFAF0\",'#d80000',\"#a50000\"])\n",
    "g = sns.clustermap(corr, xticklabels = 1, yticklabels = 1, cmap = cmap, center = 0, vmin = -1, vmax = 1, \n",
    "                   annot = corr, annot_kws={\"size\": 6},\n",
    "                  )\n",
    "g.ax_heatmap.set_xticklabels(g.ax_heatmap.get_xticklabels(), fontsize = 15)\n",
    "g.ax_heatmap.set_yticklabels(g.ax_heatmap.get_yticklabels(), fontsize = 15)\n",
    "g.ax_heatmap.tick_params(right=False, bottom=False)\n",
    "mask = np.triu(np.ones_like(corr))\n",
    "values = g.ax_heatmap.collections[0].get_array().reshape(corr.shape)\n",
    "new_values = np.ma.array(values, mask=mask)\n",
    "g.ax_heatmap.collections[0].set_array(new_values)"
   ]
  },
  {
   "cell_type": "markdown",
   "id": "e66fffe7-6abe-4d44-ad7b-9cafb93da291",
   "metadata": {},
   "source": [
    "## Figure 4B"
   ]
  },
  {
   "cell_type": "code",
   "execution_count": null,
   "id": "b2cc06cc-47d6-49e7-b2d1-4716c5e996ca",
   "metadata": {
    "tags": []
   },
   "outputs": [],
   "source": [
    "## Loading The direction of differentially expressed proteins\n",
    "dep = pd.DataFrame()\n",
    "for i in dep_dict.keys():\n",
    "    temp = dep_dict[i]\n",
    "    temp = temp[temp['FDR (deqms)'] < 0.05]['Direction'].rename(i)\n",
    "    dep = pd.concat([dep, temp],1)"
   ]
  },
  {
   "cell_type": "code",
   "execution_count": null,
   "id": "8a5fbca2-b64d-4b02-a248-73aaabcdf18c",
   "metadata": {
    "tags": []
   },
   "outputs": [],
   "source": [
    "edges = pd.read_csv('Results/Network/edges.txt.gz',sep='\\t')\n",
    "nodes = pd.read_csv('Results/Network/nodes.txt',sep='\\t',index_col = 0)"
   ]
  },
  {
   "cell_type": "code",
   "execution_count": null,
   "id": "9b1e7166-6fa4-4447-b993-e92e69fd8d53",
   "metadata": {
    "tags": []
   },
   "outputs": [],
   "source": [
    "top_genes = nodes[nodes['location'] == 'GENE']\n",
    "top_genes = top_genes[top_genes['degree'] > top_genes['degree'].quantile(.99)]\n",
    "#get only significant top genes\n",
    "top_genes = top_genes[top_genes['symbol'].isin(degs.index)]\n",
    "\n",
    "top_protein = nodes[nodes['location'] == 'PROTEIN']\n",
    "top_protein = top_protein[top_protein['degree'] > top_protein['degree'].quantile(.99)]\n",
    "#get only significant top proteins\n",
    "top_protein = top_protein.reindex(set(top_protein.index).intersection(dep.index))\n",
    "\n",
    "clinical_variables = nodes[nodes['location'] == 'CLINICAL']\n",
    "\n",
    "\n",
    "central_and_clinical = pd.concat([top_genes, top_protein, clinical_variables])"
   ]
  },
  {
   "cell_type": "code",
   "execution_count": null,
   "id": "b650c680-5b2e-4dd6-bc25-fe731234b9e4",
   "metadata": {
    "tags": []
   },
   "outputs": [],
   "source": [
    "## Use the output (Results/Networks/Figure4B_*.txt) as the input of Cytoscape for the network visualization\n",
    "edges[edges['source'].isin(central_and_clinical.index) & edges['target'].isin(central_and_clinical.index)].to_csv('Results/Network/Figure4B_edges.txt', sep = '\\t')\n",
    "central_and_clinical.to_csv('Results/Network/Figure4B_nodes.txt', sep = '\\t')"
   ]
  },
  {
   "cell_type": "markdown",
   "id": "b24e03b1-0c10-4545-b008-968573f56e95",
   "metadata": {},
   "source": [
    "## Figure 4C-D\n",
    "\n",
    "Retrieved from InetModels and post-processed using Cytoscape\n",
    "\n",
    "4C: https://inetmodels.com/?networkType=Multi-Omics+Network&categoryType=Study-specific+Networks&categoryName=Long-Term+Exercise+%28Emanuelsson+et+al+2023%29&analyteTypes=GENE%7C%2CPROTEIN&analytes=Vo2+Peak%7C%2CCS+activity&nodeLimit=30&pruning=0&firstNeighbour=true&visualize=true&correlation=both\n",
    "\n",
    "4D: https://inetmodels.com/?networkType=Multi-Omics+Network&categoryType=Study-specific+Networks&categoryName=Long-Term+Exercise+%28Emanuelsson+et+al+2023%29&analyteTypes=GENE%7C%2CPROTEIN&analytes=Leg+Strength+%28Nm%29%7C%2CAnterior+Thigh+Volume+%28L%29&nodeLimit=30&pruning=0&firstNeighbour=true&visualize=true&correlation=both\n",
    "\n"
   ]
  },
  {
   "cell_type": "markdown",
   "id": "2110b55f-6e26-4c14-a320-48dfb3e8f35c",
   "metadata": {},
   "source": [
    "## Figure 4E\n",
    "\n",
    "Network figure was created in cytoscape based on the entire network and clustering information in the nodes and edges files in \"Results/Network\""
   ]
  },
  {
   "cell_type": "code",
   "execution_count": null,
   "id": "901659e3-f839-4529-b72b-240c89d5a33d",
   "metadata": {
    "tags": []
   },
   "outputs": [],
   "source": [
    "for i in sorted(nodes['cluster'].unique()):\n",
    "    gene_list = nodes[nodes['cluster'] == i]['symbol'].tolist()\n",
    "    enr = gp.enrichr(gene_list=gene_list,\n",
    "                     gene_sets='KEGG_2019_Human',\n",
    "                     outdir='test/enrichr_kegg2',\n",
    "                     cutoff=0.5,\n",
    "                     verbose=False)\n",
    "    temp = enr.res2d[enr.res2d['Adjusted P-value'] < 0.05]\n",
    "    temp['-Log10(FDR)'] = -np.log10(temp['Adjusted P-value'])\n",
    "    temp['#ofGenes'] = [len(i.split(';')) for i in temp['Genes']]\n",
    "    terms = temp.set_index('Term').sort_values('-Log10(FDR)', ascending = False)[['-Log10(FDR)','#ofGenes','Genes']]\n",
    "\n",
    "    terms = terms[~terms.index.isin(exclude_KEGG)]\n",
    "    terms = terms[~((terms.index.str.contains('isease')) |\n",
    "             (terms.index.str.contains('arcinoma')) |\n",
    "              (terms.index.str.contains('ancer')) |\n",
    "            (terms.index.str.contains('nsulin')) |\n",
    "            (terms.index.str.contains('iabet')) |\n",
    "            (terms.index.str.contains('ysosome')) |\n",
    "            (terms.index.str.contains('nfection')) |\n",
    "            (terms.index.str.contains('ardio')) |\n",
    "            (terms.index.str.contains('ardia')) |\n",
    "            (terms.index.str.contains('mmunodef')))]\n",
    "    \n",
    "    print('Cl-%d: %s' % (i, ', '.join(terms.index[0:10].tolist())))"
   ]
  },
  {
   "cell_type": "markdown",
   "id": "c854f646-7d73-4dfd-8a11-6594ee16d381",
   "metadata": {},
   "source": [
    "## Figure 4E (Barplot)"
   ]
  },
  {
   "cell_type": "code",
   "execution_count": null,
   "id": "a433325d-4a66-4462-b8aa-7834e6588bd3",
   "metadata": {
    "tags": []
   },
   "outputs": [],
   "source": [
    "#getting # of each analyte in the clusters and their proportion (x100 to get hte percentage)\n",
    "temp = ((nodes.groupby(['location', 'cluster'])['degree'].count()/nodes.groupby(['location'])['degree'].count())*100).reset_index()"
   ]
  },
  {
   "cell_type": "code",
   "execution_count": null,
   "id": "0d32f812-f436-4854-83cd-9d209f3ab982",
   "metadata": {
    "tags": []
   },
   "outputs": [],
   "source": [
    "plt.figure(figsize = (3,3))\n",
    "ax = sns.barplot(data = temp, x = 'location', y = 'degree', hue = 'cluster', palette = 'colorblind')\n",
    "ax.legend_.remove()"
   ]
  },
  {
   "cell_type": "code",
   "execution_count": null,
   "id": "9cddd022-cad7-427f-be8e-affd504061fb",
   "metadata": {
    "tags": []
   },
   "outputs": [],
   "source": [
    "nodes.groupby(['location'])['degree'].count()"
   ]
  },
  {
   "cell_type": "markdown",
   "id": "0d872f46-645d-4f37-a492-6a1857b96b3c",
   "metadata": {},
   "source": [
    "## Figure 5A\n",
    "\n",
    "The main file ('Results/Figure5D-F.xlsx') was generated by using the accompanying R Code\n",
    "\n",
    "https://elifesciences.org/articles/69802"
   ]
  },
  {
   "cell_type": "code",
   "execution_count": null,
   "id": "5a4bc05e-d85b-48be-925e-bf99e7ac8fbe",
   "metadata": {
    "tags": []
   },
   "outputs": [],
   "source": [
    "data_withGeneName = 2**(data.rename(index = mapping['Gene Name']).reset_index()).groupby('Protein ID').sum()\n",
    "median_data = pd.concat([data_withGeneName.T, metadata['Condition']],1).groupby('Condition').median()\n",
    "\n",
    "DEP_ALL = pd.ExcelFile('Results/Figure5D-F.xlsx')\n"
   ]
  },
  {
   "cell_type": "code",
   "execution_count": null,
   "id": "2d6fe5aa-dd99-4ead-b51b-cf1a4d95259d",
   "metadata": {
    "tags": []
   },
   "outputs": [],
   "source": [
    "temp = pd.read_excel('Data/Figure5/elife-69802-supp2-v1.xlsx', index_col = 0).iloc[0:, 2:]\n",
    "data_HIIT = temp.copy()\n",
    "metadata_HIIT = pd.Series([i.split('_')[0] for i in temp.columns],index = temp.columns)\n",
    "median_HIIT = pd.concat([data_HIIT.T, metadata_HIIT],1).groupby(0).median()\n",
    "\n",
    "DEP = DEP_ALL.parse('MEMCvsHIIT')\n",
    "median_HIIT = median_HIIT[set(DEP['Accession']).intersection(median_HIIT.columns)].rename(columns = DEP[['Accession', 'Gene Name']].set_index('Accession')['Gene Name'])#[DEP['Gene Name']]\n",
    "\n",
    "prot_intersection = set(median_HIIT.columns).intersection(set(median_data.columns))#.intersection(DEP)\n",
    "\n",
    "temp = pd.concat([zscore(median_data[prot_intersection].reindex()), zscore(median_HIIT[prot_intersection])]).T\n",
    "\n",
    "x = []\n",
    "for num, i in enumerate(temp.columns):\n",
    "    for j in temp.columns[num+1:]:\n",
    "        t1 = pearsonr(temp[i], temp[j])\n",
    "        x.append([i, j, t1[0], t1[1]])\n",
    "corr_HIIT = pd.DataFrame(x, columns = ['i','j', 'corr', 'pval'])\n",
    "corr_HIIT['padj'] = multipletests(corr_HIIT['pval'],method='fdr_bh')[1]\n",
    "\n",
    "corr_HIIT.to_csv('../Results/Corr_HIIT_Fig5A.txt', sep = '\\t')"
   ]
  },
  {
   "cell_type": "markdown",
   "id": "9bdaf113-7829-49c2-9ac9-9c9b067e1952",
   "metadata": {},
   "source": [
    "## Figure 5B\n",
    "\n",
    "https://elifesciences.org/articles/49874"
   ]
  },
  {
   "cell_type": "code",
   "execution_count": null,
   "id": "d82e7ecf-b450-4e27-913c-13e3bf05eaaf",
   "metadata": {
    "tags": []
   },
   "outputs": [],
   "source": [
    "temp = pd.ExcelFile('Data/Figure5/elife-49874-fig1-data3-v1.xlsx')\n",
    "mapping_aging = pd.read_csv('Data/Figure5/mapping_prots_Aging.txt', sep = '\\t', index_col = 0)\n",
    "metadata_aging = pd.read_csv('Data/Figure5/metadata_Aging.txt', sep = '\\t')\n",
    "metadata_aging.index = metadata_aging['TMT Experiments'] + '_' + metadata_aging['TMT Channel'].astype(str)\n",
    "data_aging = 2**(temp.parse('All-Proteins-5891-Quantified', index_col = 1, skiprows=4)[metadata_aging.index]).dropna().merge(mapping_aging, left_index = True, right_index = True).groupby('To').sum()\n",
    "median_aging = pd.concat([data_aging.T, metadata_aging[['Age Level']]],1).groupby('Age Level').median()"
   ]
  },
  {
   "cell_type": "code",
   "execution_count": null,
   "id": "80e478a2-f455-46c2-9470-881ae250bf10",
   "metadata": {},
   "outputs": [],
   "source": [
    "DEPs = DEP_ALL.parse('AllEndvsAging')['Gene Name']\n",
    "prot_intersection = set(median_aging.columns).intersection(set(median_data.columns)).intersection(DEPs)\n",
    "\n",
    "temp = pd.concat([zscore(median_data[prot_intersection].reindex()), zscore(median_aging[prot_intersection])]).T\n",
    "\n",
    "x = []\n",
    "for num, i in enumerate(temp.columns):\n",
    "    for j in temp.columns[num+1:]:\n",
    "        t1 = pearsonr(temp[i], temp[j])\n",
    "        x.append([i, j, t1[0], t1[1]])\n",
    "corr_Aging = pd.DataFrame(x, columns = ['i','j', 'corr', 'pval'])\n",
    "corr_Aging['padj'] = multipletests(corr_Aging['pval'],method='fdr_bh')[1]\n",
    "\n",
    "corr_Aging.to_csv('../Results/Corr_Aging_Fig5B.txt', sep = '\\t')"
   ]
  },
  {
   "cell_type": "markdown",
   "id": "9406143a-2d50-4eec-997d-793ed480eadc",
   "metadata": {},
   "source": [
    "## Figure 5C"
   ]
  },
  {
   "cell_type": "code",
   "execution_count": null,
   "id": "f8e61806-7a36-4a60-b9bd-361a16597b3d",
   "metadata": {
    "tags": []
   },
   "outputs": [],
   "source": [
    "temp = pd.ExcelFile('Data/Figure5/1-s2.0-S2666379122003184-mmc2.xlsx')\n",
    "metadata_T2D = temp.parse('Table S1a', index_col = 0)['T2D-3C']\n",
    "\n",
    "data_T2D = 2**temp.parse('Table S1c', index_col = 0).dropna(how = 'all')[metadata_T2D.index]\n",
    "median_T2D = pd.concat([data_T2D.T, metadata_T2D],1).groupby('T2D-3C').median()"
   ]
  },
  {
   "cell_type": "code",
   "execution_count": null,
   "id": "6abb667c-905e-499a-9382-e56fc4a57b0a",
   "metadata": {
    "tags": []
   },
   "outputs": [],
   "source": [
    "DEPs = DEP_ALL.parse('AllEndvsAging')['Gene Name']\n",
    "prot_intersection = set(median_T2D.columns).intersection(set(median_data.columns)).intersection(DEPs)\n",
    "\n",
    "temp = pd.concat([zscore(median_data[prot_intersection].reindex()), zscore(median_T2D[prot_intersection])]).T\n",
    "\n",
    "x = []\n",
    "for num, i in enumerate(temp.columns):\n",
    "    for j in temp.columns[num+1:]:\n",
    "        t1 = pearsonr(temp[i], temp[j])\n",
    "        x.append([i, j, t1[0], t1[1]])\n",
    "corr_T2DM = pd.DataFrame(x, columns = ['i','j', 'corr', 'pval'])\n",
    "corr_T2DM['padj'] = multipletests(corr_T2DM['pval'],method='fdr_bh')[1]\n",
    "\n",
    "corr_T2DM.to_csv('../Results/Corr_T2DM_Fig5C.txt', sep = '\\t')"
   ]
  },
  {
   "cell_type": "markdown",
   "id": "f8d09fbf-fd79-4ef5-be9e-b2b973b5d585",
   "metadata": {
    "tags": []
   },
   "source": [
    "## Figure 5D-F\n",
    "\n",
    "Refer to Figure5_DEP_ALL_generation.R"
   ]
  }
 ],
 "metadata": {
  "kernelspec": {
   "display_name": "PFProgression_Analysis",
   "language": "python",
   "name": "pfprogression_analysis"
  },
  "language_info": {
   "codemirror_mode": {
    "name": "ipython",
    "version": 3
   },
   "file_extension": ".py",
   "mimetype": "text/x-python",
   "name": "python",
   "nbconvert_exporter": "python",
   "pygments_lexer": "ipython3",
   "version": "3.7.12"
  }
 },
 "nbformat": 4,
 "nbformat_minor": 5
}
